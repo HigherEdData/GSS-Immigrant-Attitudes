{
 "cells": [
  {
   "cell_type": "markdown",
   "id": "133d0aa5-4c9e-418e-9352-64e76ae5c4ca",
   "metadata": {},
   "source": [
    "Table 1: Variables Definition"
   ]
  },
  {
   "cell_type": "markdown",
   "id": "2670e85a-9bc6-4ac7-be17-694b09d49d8e",
   "metadata": {},
   "source": [
    "Educational Attainment and Confidence in Education Data Exploration"
   ]
  },
  {
   "cell_type": "markdown",
   "id": "fcdb161e-fba9-4700-981f-a2fd36adb34e",
   "metadata": {},
   "source": [
    "By: Aaron Zhao"
   ]
  },
  {
   "cell_type": "code",
   "execution_count": 1,
   "id": "f4788ef4-8078-46fb-899f-c0fff361224e",
   "metadata": {
    "tags": []
   },
   "outputs": [
    {
     "data": {
      "text/html": [
       "<style>div.jp-Notebook .datagrid-container {min-height: 448px; }</style>"
      ],
      "text/plain": [
       "<IPython.core.display.HTML object>"
      ]
     },
     "metadata": {},
     "output_type": "display_data"
    }
   ],
   "source": [
    "use NewGSS.dta, clear"
   ]
  },
  {
   "cell_type": "code",
   "execution_count": 2,
   "id": "8efe256b-d5f9-4d9b-956a-b00fb175e51b",
   "metadata": {
    "tags": []
   },
   "outputs": [
    {
     "name": "stdout",
     "output_type": "stream",
     "text": [
      "\n",
      "-------------------------------------------------------------------------------\n",
      "educ                                           highest year of school completed\n",
      "-------------------------------------------------------------------------------\n",
      "\n",
      "                  Type: Numeric (byte)\n",
      "                 Label: EDUC\n",
      "\n",
      "                 Range: [0,20]                        Units: 1\n",
      "         Unique values: 21                        Missing .: 0/2,348\n",
      "       Unique mv codes: 2                        Missing .*: 3/2,348\n",
      "\n",
      "              Examples: 12    12th grade\n",
      "                        12    12th grade\n",
      "                        14    2 years of college\n",
      "                        16    4 years of college\n",
      "\n",
      "-------------------------------------------------------------------------------\n",
      "born                                                 was r born in this country\n",
      "-------------------------------------------------------------------------------\n",
      "\n",
      "                  Type: Numeric (byte)\n",
      "                 Label: YESNO\n",
      "\n",
      "                 Range: [1,2]                         Units: 1\n",
      "         Unique values: 2                         Missing .: 0/2,348\n",
      "       Unique mv codes: 1                        Missing .*: 1/2,348\n",
      "\n",
      "            Tabulation: Freq.   Numeric  Label\n",
      "                        2,045         1  yes\n",
      "                          302         2  no\n",
      "                            1        .n  no answer\n",
      "\n",
      "-------------------------------------------------------------------------------\n",
      "coneduc                                                 confidence in education\n",
      "-------------------------------------------------------------------------------\n",
      "\n",
      "                  Type: Numeric (byte)\n",
      "                 Label: INSTCONF\n",
      "\n",
      "                 Range: [1,3]                         Units: 1\n",
      "         Unique values: 3                         Missing .: 0/2,348\n",
      "       Unique mv codes: 3                        Missing .*: 803/2,348\n",
      "\n",
      "            Tabulation: Freq.   Numeric  Label\n",
      "                          388         1  a great deal\n",
      "                          866         2  only some\n",
      "                          291         3  hardly any\n",
      "                           15        .d  don't know\n",
      "                          785        .i  iap\n",
      "                            3        .n  no answer\n"
     ]
    }
   ],
   "source": [
    "codebook"
   ]
  },
  {
   "cell_type": "markdown",
   "id": "61a9a4e8-5a26-49cd-b362-5e3a15d204c2",
   "metadata": {},
   "source": [
    "Generate Dummy Variables of Original Variables\n",
    "- To make my variables of interest easier to navigate and interpret"
   ]
  },
  {
   "cell_type": "code",
   "execution_count": 3,
   "id": "92318eef-53f3-4a54-8e6b-d47d2f01beaa",
   "metadata": {},
   "outputs": [
    {
     "name": "stdout",
     "output_type": "stream",
     "text": [
      "(2,348 missing values generated)\n",
      "(291 changes made to coneducation)\n",
      "(866 changes made to coneducation)\n",
      "(388 changes made to coneducation)\n",
      "(15 changes made to coneducation)\n",
      "(785 changes made to coneducation)\n",
      "(3 changes made to coneducation)\n",
      "(785 observations deleted)\n",
      "(15 observations deleted)\n",
      "(3 observations deleted)\n",
      "\n",
      "        confidence in |     Confidence in Education\n",
      "            education |         1          2          3 |     Total\n",
      "----------------------+---------------------------------+----------\n",
      "         a great deal |         0          0        388 |       388 \n",
      "            only some |         0        866          0 |       866 \n",
      "           hardly any |       291          0          0 |       291 \n",
      "----------------------+---------------------------------+----------\n",
      "                Total |       291        866        388 |     1,545 \n"
     ]
    }
   ],
   "source": [
    "gen coneducation=.  //higher values=more confidence\n",
    "recode coneducation .=1 if coneduc==3\n",
    "recode coneducation .=2 if coneduc==2 \n",
    "recode coneducation .=3 if coneduc==1\n",
    "recode coneducation .=4 if coneduc==.d\n",
    "recode coneducation .=5 if coneduc==.i\n",
    "recode coneducation .=6 if coneduc==.n\n",
    "drop if coneducation==5\n",
    "drop if coneducation==4\n",
    "drop if coneducation==6\n",
    "label values coneducation confmt\n",
    "label var coneducation \"Confidence in Education\"\n",
    "tab coneduc coneducation, m"
   ]
  },
  {
   "cell_type": "code",
   "execution_count": 4,
   "id": "77329681-3334-4b51-a492-819dfbaa6292",
   "metadata": {},
   "outputs": [
    {
     "name": "stdout",
     "output_type": "stream",
     "text": [
      "\n",
      " Confidence |\n",
      "         in |\n",
      "  Education |      Freq.     Percent        Cum.\n",
      "------------+-----------------------------------\n",
      "          1 |        291       18.83       18.83\n",
      "          2 |        866       56.05       74.89\n",
      "          3 |        388       25.11      100.00\n",
      "------------+-----------------------------------\n",
      "      Total |      1,545      100.00\n"
     ]
    }
   ],
   "source": [
    "tab coneducation"
   ]
  },
  {
   "cell_type": "code",
   "execution_count": 5,
   "id": "88a71c8f-7d63-4a8e-85a2-83983c47846f",
   "metadata": {},
   "outputs": [
    {
     "name": "stdout",
     "output_type": "stream",
     "text": [
      "(1 missing value generated)\n",
      "(0 real changes made)\n",
      "(2 real changes made)\n",
      "(7 real changes made)\n",
      "(4 real changes made)\n",
      "(1 real change made)\n",
      "(14 real changes made)\n",
      "(7 real changes made)\n",
      "(22 real changes made)\n",
      "(32 real changes made)\n",
      "(40 real changes made)\n",
      "(64 real changes made)\n",
      "(416 real changes made)\n",
      "(114 real changes made)\n",
      "(219 real changes made)\n",
      "(90 real changes made)\n",
      "(279 real changes made)\n",
      "(75 real changes made)\n",
      "(84 real changes made)\n",
      "(27 real changes made)\n",
      "(44 real changes made)\n",
      "(0 observations deleted)\n",
      "(1 observation deleted)\n",
      "(2 real changes made)\n",
      "\n",
      "      highest year of |  Level of Education Attainment\n",
      "     school completed |       Low       Some       High |     Total\n",
      "----------------------+---------------------------------+----------\n",
      "  no formal schooling |         2          0          0 |         2 \n",
      "            1st grade |         1          0          0 |         1 \n",
      "            2nd grade |         2          0          0 |         2 \n",
      "            3rd grade |         7          0          0 |         7 \n",
      "            4th grade |         4          0          0 |         4 \n",
      "            5th grade |         1          0          0 |         1 \n",
      "            6th grade |        14          0          0 |        14 \n",
      "            7th grade |         0          7          0 |         7 \n",
      "            8th grade |         0         22          0 |        22 \n",
      "            9th grade |         0         32          0 |        32 \n",
      "           10th grade |         0         40          0 |        40 \n",
      "           11th grade |         0         64          0 |        64 \n",
      "           12th grade |         0        416          0 |       416 \n",
      "    1 year of college |         0        114          0 |       114 \n",
      "   2 years of college |         0          0        219 |       219 \n",
      "   3 years of college |         0          0         90 |        90 \n",
      "   4 years of college |         0          0        279 |       279 \n",
      "   5 years of college |         0          0         75 |        75 \n",
      "   6 years of college |         0          0         84 |        84 \n",
      "   7 years of college |         0          0         27 |        27 \n",
      "8 or more years of co |         0          0         44 |        44 \n",
      "----------------------+---------------------------------+----------\n",
      "                Total |        31        695        818 |     1,544 \n"
     ]
    }
   ],
   "source": [
    "gen education=educ  //higher values=more education\n",
    "label var education \"Level of Education Attainment\"\n",
    "label define education 1\"Low\" 2 \"Some\" 3 \"High\" \n",
    "label values education education\n",
    "replace education=1 if educ==1\n",
    "replace education=1 if educ==2\n",
    "replace education=1 if educ==3\n",
    "replace education=1 if educ==4\n",
    "replace education=1 if educ==5\n",
    "replace education=1 if educ==6\n",
    "replace education=2 if educ==7\n",
    "replace education=2 if educ==8\n",
    "replace education=2 if educ==9\n",
    "replace education=2 if educ==10\n",
    "replace education=2 if educ==11\n",
    "replace education=2 if educ==12\n",
    "replace education=2 if educ==13\n",
    "replace education=3 if educ==14\n",
    "replace education=3 if educ==15\n",
    "replace education=3 if educ==16\n",
    "replace education=3 if educ==17\n",
    "replace education=3 if educ==18\n",
    "replace education=3 if educ==19\n",
    "replace education=3 if educ==20\n",
    "drop if educ==.n\n",
    "drop if educ==.d\n",
    "replace education=1 if education==0\n",
    "tab educ education, m"
   ]
  },
  {
   "cell_type": "code",
   "execution_count": 6,
   "id": "4e6bd614-3e7f-479a-975b-b7725e8d104f",
   "metadata": {},
   "outputs": [
    {
     "name": "stdout",
     "output_type": "stream",
     "text": [
      "\n",
      "   Level of |\n",
      "  Education |\n",
      " Attainment |      Freq.     Percent        Cum.\n",
      "------------+-----------------------------------\n",
      "        Low |         31        2.01        2.01\n",
      "       Some |        695       45.01       47.02\n",
      "       High |        818       52.98      100.00\n",
      "------------+-----------------------------------\n",
      "      Total |      1,544      100.00\n"
     ]
    }
   ],
   "source": [
    "tab education"
   ]
  },
  {
   "cell_type": "code",
   "execution_count": 7,
   "id": "2e2ece91-5806-4f10-943b-314744f2aa05",
   "metadata": {},
   "outputs": [
    {
     "name": "stdout",
     "output_type": "stream",
     "text": [
      "(0 real changes made)\n",
      "(0 real changes made)\n",
      "(0 observations deleted)\n",
      "(0 observations deleted)\n",
      "(0 observations deleted)\n",
      "(0 observations deleted)\n",
      "\n",
      "                      | Country of Origin of\n",
      "   was r born in this |      Respondents\n",
      "              country |      U.S.  Immigrant |     Total\n",
      "----------------------+----------------------+----------\n",
      "                  yes |     1,346          0 |     1,346 \n",
      "                   no |         0        198 |       198 \n",
      "----------------------+----------------------+----------\n",
      "                Total |     1,346        198 |     1,544 \n",
      "\n",
      " Country of |\n",
      "  Origin of |\n",
      "Respondents |      Freq.     Percent        Cum.\n",
      "------------+-----------------------------------\n",
      "       U.S. |      1,346       87.18       87.18\n",
      "  Immigrant |        198       12.82      100.00\n",
      "------------+-----------------------------------\n",
      "      Total |      1,544      100.00\n"
     ]
    }
   ],
   "source": [
    "gen immigrant=born\n",
    "label var immigrant \"Country of Origin of Respondents\"\n",
    "label define immigrant 1\"U.S.\" 2 \"Immigrant\"\n",
    "label values immigrant immigrant\n",
    "replace immigrant=1 if born==1\n",
    "replace immigrant=2 if born==2\n",
    "drop if immigrant==.d\n",
    "drop if immigrant==.i\n",
    "drop if immigrant==.n\n",
    "drop if immigrant==.s\n",
    "tab born immigrant, m\n",
    "tab immigrant"
   ]
  },
  {
   "cell_type": "code",
   "execution_count": 8,
   "id": "af9f8657-dede-42d3-9ac3-95d6f19fbbac",
   "metadata": {
    "tags": []
   },
   "outputs": [
    {
     "name": "stdout",
     "output_type": "stream",
     "text": [
      "file NewGSS.dta saved\n"
     ]
    }
   ],
   "source": [
    "save NewGSS.dta, replace"
   ]
  },
  {
   "cell_type": "code",
   "execution_count": null,
   "id": "ede8e343-967b-4f57-b8ef-7a1bfccda1a5",
   "metadata": {},
   "outputs": [],
   "source": []
  }
 ],
 "metadata": {
  "kernelspec": {
   "display_name": "Stata (nbstata)",
   "language": "stata",
   "name": "nbstata"
  },
  "language_info": {
   "file_extension": ".do",
   "mimetype": "text/x-stata",
   "name": "stata",
   "version": "17"
  }
 },
 "nbformat": 4,
 "nbformat_minor": 5
}
