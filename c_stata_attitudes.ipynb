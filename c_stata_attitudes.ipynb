{
 "cells": [
  {
   "cell_type": "markdown",
   "id": "3186a568-cabc-4d38-b63d-5f2c7b240ce5",
   "metadata": {},
   "source": [
    "Educational Attainment and Confidence Data Exploration\n",
    "\n",
    "By Aaron Zhao\n",
    "\n",
    "Codes for downloading GSS Dataset"
   ]
  },
  {
   "cell_type": "code",
   "execution_count": 1,
   "id": "10387187-8ceb-4383-b1cc-015ddb737c6a",
   "metadata": {
    "tags": []
   },
   "outputs": [
    {
     "data": {
      "text/html": [
       "<style>div.jp-Notebook .datagrid-container {min-height: 448px; }</style>"
      ],
      "text/plain": [
       "<IPython.core.display.HTML object>"
      ]
     },
     "metadata": {},
     "output_type": "display_data"
    },
    {
     "name": "stdout",
     "output_type": "stream",
     "text": [
      "\n"
     ]
    }
   ],
   "source": [
    "set maxvar 120000\n",
    "///This is probably not necessary: I tried to get the entire GSS data into Jupyter lab, which crashed it.\n",
    "/// I thought it was because the maxvar is too small by default so I enlarged it. It didn't help. "
   ]
  },
  {
   "cell_type": "markdown",
   "id": "ef0aa121-742f-4462-9738-32b6a7b8e4ad",
   "metadata": {
    "tags": []
   },
   "source": [
    "copy \"https://gss.norc.org/documents/stata/GSS_stata.zip\" ///\n",
    "  data/GSS_stata.zip, replace"
   ]
  },
  {
   "cell_type": "code",
   "execution_count": 2,
   "id": "ee6977df-1f29-4c0f-8c7d-a5959a8051ce",
   "metadata": {
    "tags": []
   },
   "outputs": [],
   "source": [
    "copy \"https://gss.norc.org/Documents/stata/2018_stata.zip\" ///\n",
    "GSS2018.zip, replace\n",
    "///I am only using 2018 data because the entire data set is too large to include."
   ]
  },
  {
   "cell_type": "code",
   "execution_count": 3,
   "id": "f4d140a7-8436-4127-a0f0-b72bf9481f37",
   "metadata": {},
   "outputs": [
    {
     "name": "stdout",
     "output_type": "stream",
     "text": [
      "    inflating: GSS2018.dta\n",
      "\n",
      "successfully unzipped GSS2018.zip to current directory\n",
      "total processed:  1\n",
      "        skipped:  0\n",
      "      extracted:  1\n"
     ]
    }
   ],
   "source": [
    "unzipfile GSS2018.zip, replace"
   ]
  },
  {
   "cell_type": "code",
   "execution_count": 4,
   "id": "8c84d4a9-670c-46ee-a13d-1bb3465348f5",
   "metadata": {},
   "outputs": [],
   "source": [
    "use coneduc educ born using GSS2018.dta, clear"
   ]
  },
  {
   "cell_type": "code",
   "execution_count": 5,
   "id": "61ba98db-a172-4c34-a283-9ce2619371be",
   "metadata": {},
   "outputs": [
    {
     "name": "stdout",
     "output_type": "stream",
     "text": [
      "(file NewGSS.dta not found)\n",
      "file NewGSS.dta saved\n"
     ]
    }
   ],
   "source": [
    "save NewGSS.dta, replace"
   ]
  },
  {
   "cell_type": "code",
   "execution_count": 6,
   "id": "76110451-6843-449a-a233-e8b2e8b338c1",
   "metadata": {
    "tags": []
   },
   "outputs": [
    {
     "name": "stdout",
     "output_type": "stream",
     "text": [
      "\n",
      "Variable      Storage   Display    Value\n",
      "    name         type    format    label      Variable label\n",
      "-------------------------------------------------------------------------------\n",
      "coneduc         byte    %29.0g     INSTCONF   confidence in education\n",
      "educ            byte    %29.0g     EDUC       highest year of school completed\n",
      "born            byte    %29.0g     YESNO      was r born in this country\n"
     ]
    }
   ],
   "source": [
    "describe coneduc educ born"
   ]
  },
  {
   "cell_type": "code",
   "execution_count": null,
   "id": "57b5a6c5-4947-4f01-a0a6-7c1ffdbd0580",
   "metadata": {},
   "outputs": [],
   "source": []
  }
 ],
 "metadata": {
  "kernelspec": {
   "display_name": "Stata (nbstata)",
   "language": "stata",
   "name": "nbstata"
  },
  "language_info": {
   "file_extension": ".do",
   "mimetype": "text/x-stata",
   "name": "stata",
   "version": "17"
  }
 },
 "nbformat": 4,
 "nbformat_minor": 5
}
