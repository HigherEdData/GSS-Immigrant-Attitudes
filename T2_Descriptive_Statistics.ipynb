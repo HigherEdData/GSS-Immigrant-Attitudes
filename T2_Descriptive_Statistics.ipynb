{
 "cells": [
  {
   "cell_type": "markdown",
   "id": "ad944e7f-e41a-40e0-b25f-986f6aeb4333",
   "metadata": {},
   "source": [
    "Descriptive Statistics"
   ]
  },
  {
   "cell_type": "markdown",
   "id": "ebb49f02-2b7f-4634-8a47-0da238a5aa71",
   "metadata": {},
   "source": [
    "Educational Attainment and Confidence in Education Data Exploration"
   ]
  },
  {
   "cell_type": "markdown",
   "id": "7ca0b34c-515e-4b28-a222-818c712a6be8",
   "metadata": {},
   "source": [
    "By: Aaron Zhao"
   ]
  },
  {
   "cell_type": "code",
   "execution_count": 1,
   "id": "9c46e320-3efe-4448-a70d-0e84192b6cb6",
   "metadata": {},
   "outputs": [
    {
     "data": {
      "text/html": [
       "<style>div.jp-Notebook .datagrid-container {min-height: 448px; }</style>"
      ],
      "text/plain": [
       "<IPython.core.display.HTML object>"
      ]
     },
     "metadata": {},
     "output_type": "display_data"
    }
   ],
   "source": [
    "use NewGSS.dta, clear"
   ]
  },
  {
   "cell_type": "code",
   "execution_count": 2,
   "id": "483f1069-efae-40c5-bac2-42d8f2f33a3e",
   "metadata": {},
   "outputs": [
    {
     "name": "stdout",
     "output_type": "stream",
     "text": [
      "\n",
      "Contains data from NewGSS.dta\n",
      " Observations:         1,544                  \n",
      "    Variables:             6                  6 May 2024 16:48\n",
      "-------------------------------------------------------------------------------\n",
      "Variable      Storage   Display    Value\n",
      "    name         type    format    label      Variable label\n",
      "-------------------------------------------------------------------------------\n",
      "educ            byte    %29.0g     EDUC       highest year of school completed\n",
      "born            byte    %29.0g     YESNO      was r born in this country\n",
      "coneduc         byte    %29.0g     INSTCONF   confidence in education\n",
      "coneducation    float   %9.0g      confmt     Confidence in Education\n",
      "education       float   %9.0g      education\n",
      "                                              Level of Education Attainment\n",
      "immigrant       float   %9.0g      immigrant\n",
      "                                              Country of Origin of Respondents\n",
      "-------------------------------------------------------------------------------\n",
      "Sorted by: \n"
     ]
    }
   ],
   "source": [
    "describe"
   ]
  },
  {
   "cell_type": "code",
   "execution_count": 3,
   "id": "a9240e05-6c6f-4d32-9d8b-169b2ee23eb7",
   "metadata": {},
   "outputs": [
    {
     "name": "stdout",
     "output_type": "stream",
     "text": [
      "\n",
      "-------------------------\n",
      "                      (1)\n",
      "                         \n",
      "                  mean/sd\n",
      "-------------------------\n",
      "education            2.51\n",
      "                   (0.54)\n",
      "coneducation         2.06\n",
      "                   (0.66)\n",
      "immigrant            1.13\n",
      "                   (0.33)\n",
      "-------------------------\n",
      "N                   1,544\n",
      "-------------------------\n"
     ]
    }
   ],
   "source": [
    "eststo contractterm: quietly estpost summarize education coneducation immigrant \n",
    "\n",
    "esttab, cells(\"mean(fmt(%9.2fc))\" sd(par)) stats(N, fmt(%9.0fc))"
   ]
  },
  {
   "cell_type": "code",
   "execution_count": null,
   "id": "1bc0bb25-bc71-4133-a1ef-992797fe21ed",
   "metadata": {},
   "outputs": [],
   "source": []
  }
 ],
 "metadata": {
  "kernelspec": {
   "display_name": "Stata (nbstata)",
   "language": "stata",
   "name": "nbstata"
  },
  "language_info": {
   "file_extension": ".do",
   "mimetype": "text/x-stata",
   "name": "stata",
   "version": "17"
  }
 },
 "nbformat": 4,
 "nbformat_minor": 5
}
