{
 "cells": [
  {
   "cell_type": "markdown",
   "id": "3f1430b8-f794-4e29-8a35-a53702590a46",
   "metadata": {},
   "source": [
    "Regression estimates"
   ]
  },
  {
   "cell_type": "markdown",
   "id": "8581a5d2-60a9-44f8-b929-ffa732006d9f",
   "metadata": {},
   "source": [
    "Educational Attainment and Confidence in Education Data Exploration"
   ]
  },
  {
   "cell_type": "markdown",
   "id": "a3328966-58f9-4fd4-89fe-d99dcf796749",
   "metadata": {},
   "source": [
    "By: Aaron Zhao"
   ]
  },
  {
   "cell_type": "code",
   "execution_count": 1,
   "id": "b7f7f94e-8745-4ee2-bbd8-a9ae4c1c278d",
   "metadata": {},
   "outputs": [
    {
     "data": {
      "text/html": [
       "<style>div.jp-Notebook .datagrid-container {min-height: 448px; }</style>"
      ],
      "text/plain": [
       "<IPython.core.display.HTML object>"
      ]
     },
     "metadata": {},
     "output_type": "display_data"
    }
   ],
   "source": [
    "use NewGSS.dta, clear"
   ]
  },
  {
   "cell_type": "code",
   "execution_count": 5,
   "id": "40484e24-d302-45c7-9c02-7f445fa0b19a",
   "metadata": {
    "tags": []
   },
   "outputs": [
    {
     "data": {
      "text/html": [
       "<div>\n",
       "<style scoped>\n",
       "    .dataframe tbody tr th:only-of-type {\n",
       "        vertical-align: middle;\n",
       "    }\n",
       "\n",
       "    .dataframe tbody tr th {\n",
       "        vertical-align: top;\n",
       "    }\n",
       "\n",
       "    .dataframe thead th {\n",
       "        text-align: right;\n",
       "    }\n",
       "</style>\n",
       "<table border=\"1\" class=\"dataframe\">\n",
       "  <thead>\n",
       "    <tr style=\"text-align: right;\">\n",
       "      <th></th>\n",
       "      <th>educ</th>\n",
       "      <th>born</th>\n",
       "      <th>coneduc</th>\n",
       "      <th>coneducation</th>\n",
       "      <th>education</th>\n",
       "      <th>immigrant</th>\n",
       "      <th>_est_est1</th>\n",
       "    </tr>\n",
       "  </thead>\n",
       "  <tbody>\n",
       "    <tr>\n",
       "      <th>1</th>\n",
       "      <td>10th grade</td>\n",
       "      <td>yes</td>\n",
       "      <td>a great deal</td>\n",
       "      <td>3</td>\n",
       "      <td>2</td>\n",
       "      <td>1</td>\n",
       "      <td>1</td>\n",
       "    </tr>\n",
       "    <tr>\n",
       "      <th>2</th>\n",
       "      <td>4 years of college</td>\n",
       "      <td>yes</td>\n",
       "      <td>only some</td>\n",
       "      <td>2</td>\n",
       "      <td>3</td>\n",
       "      <td>1</td>\n",
       "      <td>1</td>\n",
       "    </tr>\n",
       "    <tr>\n",
       "      <th>3</th>\n",
       "      <td>4 years of college</td>\n",
       "      <td>yes</td>\n",
       "      <td>hardly any</td>\n",
       "      <td>1</td>\n",
       "      <td>3</td>\n",
       "      <td>1</td>\n",
       "      <td>1</td>\n",
       "    </tr>\n",
       "    <tr>\n",
       "      <th>4</th>\n",
       "      <td>6 years of college</td>\n",
       "      <td>yes</td>\n",
       "      <td>only some</td>\n",
       "      <td>2</td>\n",
       "      <td>3</td>\n",
       "      <td>1</td>\n",
       "      <td>1</td>\n",
       "    </tr>\n",
       "    <tr>\n",
       "      <th>5</th>\n",
       "      <td>1 year of college</td>\n",
       "      <td>yes</td>\n",
       "      <td>a great deal</td>\n",
       "      <td>3</td>\n",
       "      <td>2</td>\n",
       "      <td>1</td>\n",
       "      <td>1</td>\n",
       "    </tr>\n",
       "  </tbody>\n",
       "</table>\n",
       "</div>"
      ]
     },
     "metadata": {},
     "output_type": "display_data"
    }
   ],
   "source": [
    "%head"
   ]
  },
  {
   "cell_type": "code",
   "execution_count": 6,
   "id": "5ca0a9d1-1f02-49fa-8f39-89129e9eaf61",
   "metadata": {
    "tags": []
   },
   "outputs": [
    {
     "name": "stdout",
     "output_type": "stream",
     "text": [
      "\n",
      "Contains data from NewGSS.dta\n",
      " Observations:         1,544                  \n",
      "    Variables:             7                  6 May 2024 17:33\n",
      "------------------------------------------------------------------------------------------------------------------------------------------------------\n",
      "Variable      Storage   Display    Value\n",
      "    name         type    format    label      Variable label\n",
      "------------------------------------------------------------------------------------------------------------------------------------------------------\n",
      "educ            byte    %29.0g     EDUC       highest year of school completed\n",
      "born            byte    %29.0g     YESNO      was r born in this country\n",
      "coneduc         byte    %29.0g     INSTCONF   confidence in education\n",
      "coneducation    float   %9.0g      confmt     Confidence in Education\n",
      "education       float   %9.0g      education\n",
      "                                              Level of Education Attainment\n",
      "immigrant       float   %9.0g      immigrant\n",
      "                                              Country of Origin of Respondents\n",
      "_est_est1       byte    %8.0g                 esample() from estimates store\n",
      "------------------------------------------------------------------------------------------------------------------------------------------------------\n",
      "Sorted by: \n",
      "     Note: Dataset has changed since last saved.\n"
     ]
    }
   ],
   "source": [
    "describe"
   ]
  },
  {
   "cell_type": "code",
   "execution_count": 7,
   "id": "3fa88c3a-0f88-4e67-9e21-722bb38419c0",
   "metadata": {
    "tags": []
   },
   "outputs": [
    {
     "name": "stdout",
     "output_type": "stream",
     "text": [
      "\n",
      "      Source |       SS           df       MS      Number of obs   =     1,544\n",
      "-------------+----------------------------------   F(2, 1541)      =     18.97\n",
      "       Model |     16.1504         2  8.07520001   Prob > F        =    0.0000\n",
      "    Residual |  655.880688     1,541  .425620174   R-squared       =    0.0240\n",
      "-------------+----------------------------------   Adj R-squared   =    0.0228\n",
      "       Total |  672.031088     1,543  .435535378   Root MSE        =     .6524\n",
      "\n",
      "------------------------------------------------------------------------------\n",
      "coneducation | Coefficient  Std. err.      t    P>|t|     [95% conf. interval]\n",
      "-------------+----------------------------------------------------------------\n",
      "   education |  -.1440558   .0310203    -4.64   0.000    -.2049023   -.0832094\n",
      "   immigrant |   .1751614   .0499669     3.51   0.000      .077151    .2731717\n",
      "       _cons |   2.226091   .1024255    21.73   0.000     2.025183       2.427\n",
      "------------------------------------------------------------------------------\n",
      "(est1 stored)\n"
     ]
    }
   ],
   "source": [
    "eststo clear\n",
    "eststo: reg coneducation education immigrant"
   ]
  },
  {
   "cell_type": "code",
   "execution_count": 11,
   "id": "fd7fbbf2-b231-4908-91a5-a0915e0a9dd9",
   "metadata": {
    "tags": []
   },
   "outputs": [
    {
     "name": "stdout",
     "output_type": "stream",
     "text": [
      "\n",
      "“Odds Ratio”\n",
      "-------------------------------------\n",
      "                              (1)    \n",
      "                              OLS    \n",
      "-------------------------------------\n",
      "Level of Education~t        -0.14 ***\n",
      "                           (0.03)    \n",
      "Country of Origin ~s         0.18 ***\n",
      "                           (0.05)    \n",
      "Constant                     2.23 ***\n",
      "                           (0.10)    \n",
      "-------------------------------------\n",
      "r-squared                    0.02    \n",
      "observations                1,544    \n",
      "-------------------------------------\n",
      "^ p<.1, * p<.05, ** p<.01, *** p<.001\n"
     ]
    }
   ],
   "source": [
    "esttab ///\n",
    ", cells(b(star fmt(2)) se(fmt(2) par)) stardetach  ///\n",
    " legend starlevels(^ .1 * .05 ** .01 *** .001) ///\n",
    "mlabels(\"OLS\" \"MLE / logistic\" \"MLE marginal effects\") title(“Odds Ratio”) ///\n",
    "collabels(none) label stats(r2 N, fmt(2 %9.0fc) label(r-squared observations))"
   ]
  },
  {
   "cell_type": "code",
   "execution_count": null,
   "id": "32bbc71c-a442-401b-8464-3679b6bbc77b",
   "metadata": {},
   "outputs": [],
   "source": []
  }
 ],
 "metadata": {
  "kernelspec": {
   "display_name": "Stata (nbstata)",
   "language": "stata",
   "name": "nbstata"
  },
  "language_info": {
   "file_extension": ".do",
   "mimetype": "text/x-stata",
   "name": "stata",
   "version": "17"
  }
 },
 "nbformat": 4,
 "nbformat_minor": 5
}
