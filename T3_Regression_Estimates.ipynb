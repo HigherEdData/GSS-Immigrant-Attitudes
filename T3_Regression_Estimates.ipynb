{
 "cells": [
  {
   "cell_type": "markdown",
   "id": "3f1430b8-f794-4e29-8a35-a53702590a46",
   "metadata": {},
   "source": [
    "Regression estimates"
   ]
  },
  {
   "cell_type": "markdown",
   "id": "8581a5d2-60a9-44f8-b929-ffa732006d9f",
   "metadata": {},
   "source": [
    "Educational Attainment and Confidence in Education Data Exploration"
   ]
  },
  {
   "cell_type": "markdown",
   "id": "a3328966-58f9-4fd4-89fe-d99dcf796749",
   "metadata": {},
   "source": [
    "By: Aaron Zhao"
   ]
  },
  {
   "cell_type": "code",
   "execution_count": 1,
   "id": "b7f7f94e-8745-4ee2-bbd8-a9ae4c1c278d",
   "metadata": {},
   "outputs": [
    {
     "data": {
      "text/html": [
       "<style>div.jp-Notebook .datagrid-container {min-height: 448px; }</style>"
      ],
      "text/plain": [
       "<IPython.core.display.HTML object>"
      ]
     },
     "metadata": {},
     "output_type": "display_data"
    }
   ],
   "source": [
    "use NewGSS.dta, clear"
   ]
  },
  {
   "cell_type": "code",
   "execution_count": 2,
   "id": "3fa88c3a-0f88-4e67-9e21-722bb38419c0",
   "metadata": {
    "tags": []
   },
   "outputs": [
    {
     "name": "stdout",
     "output_type": "stream",
     "text": [
      "\n",
      "      Source |       SS           df       MS      Number of obs   =     1,544\n",
      "-------------+----------------------------------   F(2, 1541)      =     18.97\n",
      "       Model |     16.1504         2  8.07520001   Prob > F        =    0.0000\n",
      "    Residual |  655.880688     1,541  .425620174   R-squared       =    0.0240\n",
      "-------------+----------------------------------   Adj R-squared   =    0.0228\n",
      "       Total |  672.031088     1,543  .435535378   Root MSE        =     .6524\n",
      "\n",
      "------------------------------------------------------------------------------\n",
      "coneducation | Coefficient  Std. err.      t    P>|t|     [95% conf. interval]\n",
      "-------------+----------------------------------------------------------------\n",
      "   education |  -.1440558   .0310203    -4.64   0.000    -.2049023   -.0832094\n",
      "   immigrant |   .1751614   .0499669     3.51   0.000      .077151    .2731717\n",
      "       _cons |   2.226091   .1024255    21.73   0.000     2.025183       2.427\n",
      "------------------------------------------------------------------------------\n",
      "(est1 stored)\n"
     ]
    }
   ],
   "source": [
    "eststo: reg coneducation education immigrant"
   ]
  }
 ],
 "metadata": {
  "kernelspec": {
   "display_name": "Stata (nbstata)",
   "language": "stata",
   "name": "nbstata"
  },
  "language_info": {
   "file_extension": ".do",
   "mimetype": "text/x-stata",
   "name": "stata",
   "version": "17"
  }
 },
 "nbformat": 4,
 "nbformat_minor": 5
}
